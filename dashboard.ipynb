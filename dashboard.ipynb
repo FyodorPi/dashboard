{
  "nbformat": 4,
  "nbformat_minor": 0,
  "metadata": {
    "colab": {
      "provenance": [],
      "authorship_tag": "ABX9TyO1DVEX22QzY7aKsk1nSFFL",
      "include_colab_link": true
    },
    "kernelspec": {
      "name": "python3",
      "display_name": "Python 3"
    },
    "language_info": {
      "name": "python"
    }
  },
  "cells": [
    {
      "cell_type": "markdown",
      "metadata": {
        "id": "view-in-github",
        "colab_type": "text"
      },
      "source": [
        "<a href=\"https://colab.research.google.com/github/FyodorPi/dashboard/blob/main/dashboard.ipynb\" target=\"_parent\"><img src=\"https://colab.research.google.com/assets/colab-badge.svg\" alt=\"Open In Colab\"/></a>"
      ]
    },
    {
      "cell_type": "code",
      "source": [
        "!pip install dash pandas plotly"
      ],
      "metadata": {
        "id": "qVDBHjLH3yXN",
        "colab": {
          "base_uri": "https://localhost:8080/"
        },
        "outputId": "899d0f35-8566-40c2-8682-bd2a7a99b0da"
      },
      "execution_count": 6,
      "outputs": [
        {
          "output_type": "stream",
          "name": "stdout",
          "text": [
            "Requirement already satisfied: dash in /usr/local/lib/python3.12/dist-packages (3.2.0)\n",
            "Requirement already satisfied: pandas in /usr/local/lib/python3.12/dist-packages (2.2.2)\n",
            "Requirement already satisfied: plotly in /usr/local/lib/python3.12/dist-packages (5.24.1)\n",
            "Requirement already satisfied: Flask<3.2,>=1.0.4 in /usr/local/lib/python3.12/dist-packages (from dash) (3.1.1)\n",
            "Requirement already satisfied: Werkzeug<3.2 in /usr/local/lib/python3.12/dist-packages (from dash) (3.1.3)\n",
            "Requirement already satisfied: importlib-metadata in /usr/local/lib/python3.12/dist-packages (from dash) (8.7.0)\n",
            "Requirement already satisfied: typing-extensions>=4.1.1 in /usr/local/lib/python3.12/dist-packages (from dash) (4.14.1)\n",
            "Requirement already satisfied: requests in /usr/local/lib/python3.12/dist-packages (from dash) (2.32.3)\n",
            "Requirement already satisfied: retrying in /usr/local/lib/python3.12/dist-packages (from dash) (1.4.2)\n",
            "Requirement already satisfied: nest-asyncio in /usr/local/lib/python3.12/dist-packages (from dash) (1.6.0)\n",
            "Requirement already satisfied: setuptools in /usr/local/lib/python3.12/dist-packages (from dash) (75.2.0)\n",
            "Requirement already satisfied: numpy>=1.26.0 in /usr/local/lib/python3.12/dist-packages (from pandas) (2.0.2)\n",
            "Requirement already satisfied: python-dateutil>=2.8.2 in /usr/local/lib/python3.12/dist-packages (from pandas) (2.9.0.post0)\n",
            "Requirement already satisfied: pytz>=2020.1 in /usr/local/lib/python3.12/dist-packages (from pandas) (2025.2)\n",
            "Requirement already satisfied: tzdata>=2022.7 in /usr/local/lib/python3.12/dist-packages (from pandas) (2025.2)\n",
            "Requirement already satisfied: tenacity>=6.2.0 in /usr/local/lib/python3.12/dist-packages (from plotly) (9.1.2)\n",
            "Requirement already satisfied: packaging in /usr/local/lib/python3.12/dist-packages (from plotly) (25.0)\n",
            "Requirement already satisfied: blinker>=1.9.0 in /usr/local/lib/python3.12/dist-packages (from Flask<3.2,>=1.0.4->dash) (1.9.0)\n",
            "Requirement already satisfied: click>=8.1.3 in /usr/local/lib/python3.12/dist-packages (from Flask<3.2,>=1.0.4->dash) (8.2.1)\n",
            "Requirement already satisfied: itsdangerous>=2.2.0 in /usr/local/lib/python3.12/dist-packages (from Flask<3.2,>=1.0.4->dash) (2.2.0)\n",
            "Requirement already satisfied: jinja2>=3.1.2 in /usr/local/lib/python3.12/dist-packages (from Flask<3.2,>=1.0.4->dash) (3.1.6)\n",
            "Requirement already satisfied: markupsafe>=2.1.1 in /usr/local/lib/python3.12/dist-packages (from Flask<3.2,>=1.0.4->dash) (3.0.2)\n",
            "Requirement already satisfied: six>=1.5 in /usr/local/lib/python3.12/dist-packages (from python-dateutil>=2.8.2->pandas) (1.17.0)\n",
            "Requirement already satisfied: zipp>=3.20 in /usr/local/lib/python3.12/dist-packages (from importlib-metadata->dash) (3.23.0)\n",
            "Requirement already satisfied: charset-normalizer<4,>=2 in /usr/local/lib/python3.12/dist-packages (from requests->dash) (3.4.3)\n",
            "Requirement already satisfied: idna<4,>=2.5 in /usr/local/lib/python3.12/dist-packages (from requests->dash) (3.10)\n",
            "Requirement already satisfied: urllib3<3,>=1.21.1 in /usr/local/lib/python3.12/dist-packages (from requests->dash) (2.5.0)\n",
            "Requirement already satisfied: certifi>=2017.4.17 in /usr/local/lib/python3.12/dist-packages (from requests->dash) (2025.8.3)\n"
          ]
        }
      ]
    },
    {
      "cell_type": "code",
      "source": [
        "import dash\n",
        "from dash import dcc, html\n",
        "from dash.dependencies import Input, Output\n",
        "import pandas as pd\n",
        "import numpy as np\n",
        "import plotly.express as px\n",
        "import openpyxl\n",
        "import xlrd\n",
        "import os\n",
        "import glob\n",
        "import statistics as stat\n",
        "import math\n",
        "from openpyxl import load_workbook, Workbook\n",
        "from openpyxl.styles import Color, PatternFill, Font, Border, Alignment\n",
        "from openpyxl.styles.differential import DifferentialStyle\n",
        "from openpyxl.formatting.rule import ColorScaleRule, CellIsRule, FormulaRule\n",
        "from openpyxl.chart import BarChart, LineChart, ScatterChart, Reference, Series\n",
        "from openpyxl.worksheet.table import Table, TableStyleInfo\n",
        "from pandas.io.excel import ExcelWriter\n",
        "import matplotlib.pyplot as plt\n",
        "import statsmodels.api as sm\n",
        "from google.colab import drive\n",
        "drive.mount('/content/drive')"
      ],
      "metadata": {
        "colab": {
          "base_uri": "https://localhost:8080/"
        },
        "id": "QZJJfV7Q8-2H",
        "outputId": "13011fe6-0cae-48e7-c6e5-1bf51622acb7"
      },
      "execution_count": 7,
      "outputs": [
        {
          "output_type": "stream",
          "name": "stdout",
          "text": [
            "Drive already mounted at /content/drive; to attempt to forcibly remount, call drive.mount(\"/content/drive\", force_remount=True).\n"
          ]
        }
      ]
    },
    {
      "cell_type": "code",
      "source": [
        "# product = ('arm_kanat', 'Арматурный канат')\n",
        "# product = ('prgon', 'Противоугон')\n",
        "product = ('p_prov', 'Пружинная проволока')\n",
        "# os.chdir('..')\n",
        "os.chdir(f\"/content/drive/My Drive/1Статистика/Статистика/oracle_{product[0]}\")\n",
        "\n",
        "xl_files = glob.glob('*')\n",
        "combined = pd.DataFrame()\n",
        "combined2 = pd.DataFrame()\n",
        "combined3 = pd.DataFrame()\n",
        "\n",
        "# Цикл по файлам\n",
        "for xl_file in xl_files:\n",
        "    xl_file_obj = pd.ExcelFile(xl_file)\n",
        "\n",
        "    for sheet_name in xl_file_obj.sheet_names:\n",
        "        results = 'Результаты'\n",
        "        probes = 'Пробы'\n",
        "        vhcontrol = 'Вх.контроль'\n",
        "\n",
        "        if sheet_name.startswith(results):\n",
        "            data = pd.read_excel(xl_file_obj,\n",
        "                                # skiprows=15,\n",
        "                                header=[0],\n",
        "                                sheet_name=sheet_name)\n",
        "\n",
        "            data = data.drop(labels = [0],axis = 0)\n",
        "            data=data.rename(columns = {'Unnamed: 10':'Минимум_норм', 'Unnamed: 11':'Максимум_норм'})\n",
        "            # print(data)\n",
        "            data = data.astype({'Минимум': np.float64})\n",
        "            data = data.astype({'Максимум': np.float64})\n",
        "            data = data.dropna (subset=['Минимум'])\n",
        "            data = data.dropna (subset=['Максимум'])\n",
        "            data['mean'] = data[['Минимум', 'Максимум']].mean(axis= 1 )\n",
        "\n",
        "            combined = pd.concat([combined, data], sort=False)\n",
        "            # print(combined)\n",
        "\n",
        "        if sheet_name.startswith(probes):\n",
        "            data2 = pd.read_excel(xl_file_obj,\n",
        "                                header=[0],\n",
        "                                sheet_name=sheet_name)\n",
        "            combined2 = pd.concat([combined2, data2], sort=False)\n",
        "            combined2[\"Диаметр\"] = combined2[\"Описание позиции\"].str.extract('(\\d+(?:,\\d+)?\\s)', expand=False)\n",
        "            combined2['Диаметр'] = combined2['Диаметр'].str.replace(',', '.')\n",
        "            # combined2['Диаметр'] = combined2['Диаметр'].str.replace(' ', '')\n",
        "            combined2 = combined2.astype({'Диаметр': np.float64})\n",
        "            combined2['Размер-марка-НД'] = combined2['Описание позиции'].str.replace('Проволока ', '')\n",
        "\n",
        "        if sheet_name.startswith(vhcontrol):\n",
        "            data3 = pd.read_excel(xl_file_obj,\n",
        "                                header=[0],\n",
        "                                sheet_name=sheet_name)\n",
        "            data3 = data3.drop(labels = [0],axis = 0)\n",
        "            combined3 = pd.concat([combined3, data3], sort=False)\n",
        "            # print(combined3)\n",
        "\n",
        "# elem = 'C'\n",
        "elem = 'Mn'\n",
        "\n",
        "combined4 = combined3.loc[combined3[\"Показатель\"] == elem]\n",
        "# combined5 = combined3.loc[combined3[\"Показатель\"] == 'Врм_сопр']\n",
        "combined4 = combined4.astype({'Данные СК поставщика': np.float64})\n",
        "# combined5 = combined5.astype({'Данные СК поставщика': np.float64})\n",
        "combined4 = combined4.groupby(['Плавка'])['Данные СК поставщика'].agg([\"mean\"])\n",
        "combined4 = combined4.rename(columns={'mean': elem})\n",
        "# combined4 = combined4.rename(columns={'mean': 'Ср. Mn'})\n",
        "# combined5 = combined5.groupby(['Плавка'])['Данные СК поставщика'].agg([\"mean\"])\n",
        "# combined5 = combined5.rename(columns={'mean': 'Ср. Врм_сопр'})\n",
        "\n",
        "combine=pd.merge(combined, combined2, on=('Проба'), how ='left')\n",
        "combine=pd.merge(combine, combined4, on=('Плавка'), how ='left')\n",
        "# combine=pd.merge(combine, combined5, on=('Плавка'), how ='left')\n",
        "# print(combine)\n",
        "\n",
        "combine = pd.DataFrame(data=combine)\n",
        "\n",
        "combine['Код проверки'] = combine['Код проверки'].str.replace('|', '-')\n",
        "combine['Код проверки'] = combine['Код проверки'].str.replace('/', '-')\n",
        "combine['Код проверки'] = combine['Код проверки'].str.replace('-М', '')\n",
        "combine['Класс проверки (код)'] = combine['Класс проверки (код)'].str.replace('|', '-')\n",
        "combine['Класс проверки (код)'] = combine['Класс проверки (код)'].str.replace('М-', '')\n",
        "\n",
        "# Удаление строк с пустыми значениями в поле \"Минимум\"\n",
        "combine = combine.dropna (subset=['Минимум'])\n",
        "\n",
        "print(combine.columns)\n",
        "# print(combine)"
      ],
      "metadata": {
        "colab": {
          "base_uri": "https://localhost:8080/"
        },
        "id": "wop-Fkwu9O0X",
        "outputId": "5a1317be-0802-428b-d999-744bc855959d"
      },
      "execution_count": 8,
      "outputs": [
        {
          "output_type": "stream",
          "name": "stderr",
          "text": [
            "<>:44: SyntaxWarning:\n",
            "\n",
            "invalid escape sequence '\\d'\n",
            "\n",
            "<>:44: SyntaxWarning:\n",
            "\n",
            "invalid escape sequence '\\d'\n",
            "\n",
            "/tmp/ipython-input-1664392487.py:44: SyntaxWarning:\n",
            "\n",
            "invalid escape sequence '\\d'\n",
            "\n"
          ]
        },
        {
          "output_type": "stream",
          "name": "stdout",
          "text": [
            "Index(['Проба', 'Партия_x', 'Класс проверки (код)', 'Код проверки',\n",
            "       'Контрольное значение', 'Минимум', 'Максимум', 'Е/И',\n",
            "       'Факультативность', 'нормативные значения', 'Минимум_норм',\n",
            "       'Максимум_норм', 'Дата ввода результатов', 'Позиция',\n",
            "       'Описание позиции_x', 'Примечание контролера_x', 'Статус пробы_x',\n",
            "       'mean', 'Код цеха', 'Участок', 'Код позиции', 'Описание позиции_y',\n",
            "       'Партия_y', 'Код марки стали', 'Описание марки', 'Плавка',\n",
            "       'Дата производства', 'Статус пробы_y', 'Дата создания пробы',\n",
            "       'Примечание контролера_y', 'Примечание лаборанта',\n",
            "       'Заказ, строка пробы', 'Потребитель (проба)',\n",
            "       'Номер стандарта на тех.требования 1',\n",
            "       'Наименование стандарта на техтребования 1',\n",
            "       'Номер стандарта на сортамент (марку)',\n",
            "       'Наименование стандарта на сортамент (марку)', 'Диаметр',\n",
            "       'Размер-марка-НД', 'Mn'],\n",
            "      dtype='object')\n"
          ]
        }
      ]
    },
    {
      "cell_type": "code",
      "source": [
        "for klass in ['МЕХСВ']:\n",
        "# for klass in combine['Класс проверки (код)'].unique ():\n",
        "    print(klass)\n",
        "    # Выборка по классу свойств\n",
        "    combin = combine.loc[combine[\"Класс проверки (код)\"] == klass]\n",
        "\n",
        "    # for charact in combin['Код проверки'].unique ():\n",
        "    for charact in [\n",
        "        'Врм_сопр',\n",
        "        # 'Число_скручиваний',\n",
        "        ]:\n",
        "        # Выборка по свойству\n",
        "        combi = combin.loc[combin[\"Код проверки\"] == charact]\n",
        "\n",
        "        # for d_marka_nd in combi['Размер-марка-НД'].unique ():\n",
        "        for d_marka_nd in [\n",
        "            # 'Б-2-1,7 ГОСТ 9389-75 (СПИК)',\n",
        "            # 'Б-2-1,75 ГОСТ 9389-75 (СПИК)',\n",
        "            'Б-2-1,8 ГОСТ 9389-75 (СПИК)',\n",
        "            ]:\n",
        "            # print(marka)\n",
        "            # Выборка по марке стали\n",
        "            comb = combi.loc[combi[\"Размер-марка-НД\"] == d_marka_nd]\n",
        "            # comb = combi.loc[combi[\"Марка-НД\"] == 'Б-2-1,8 ГОСТ 9389-75 (СПИК)']\n",
        "\n",
        "            # for diam in comb['Диаметр'].unique ():\n",
        "            #     # print(diam)\n",
        "            #     # Выборка по состоянию\n",
        "                # com = comb.loc[comb[\"Диаметр\"] == diam]\n",
        "            for minimum in comb['Минимум_норм'].unique ():\n",
        "                    # print(min)\n",
        "                # Выборка по нижней технической границе\n",
        "                    df1 = comb.loc[comb['Минимум_норм'] == minimum]\n",
        "                    # print(df['Максимум'].unique ())\n",
        "                    for maximum in df1['Максимум_норм'].unique ():\n",
        "                        # print(max)\n",
        "                # Выборка по верхней технической границе\n",
        "                        df = df1.loc[df1['Максимум_норм'] == maximum]\n",
        "                        pd.options.mode.chained_assignment = None\n",
        "                        df['Дата создания пробы1'] = df['Дата создания пробы']\n",
        "                        df['Дата создания пробы1'] = pd.to_datetime(df[\"Дата создания пробы1\"],\n",
        "                                                                        format=\"%d.%m.%Y %H:%M:%S\")\n",
        "                        df = df.sort_values('Дата создания пробы1')\n",
        "                        df['Дата создания пробы1'] = pd.to_datetime(df['Дата создания пробы1']).dt.date\n",
        "                        df['Дата создания пробы1']=pd.to_datetime(df['Дата создания пробы1'].astype(str))\n",
        "                        df['Дата создания пробы1'] = df['Дата создания пробы1'].dt.strftime('%d.%m.%Y')\n",
        "                        # pd.options.display.max_columns = None\n",
        "                        df = df.loc[df[\"Описание марки\"] == '65']\n",
        "                        # print(df[\"Описание марки\"])\n",
        "\n",
        "                        dates = df['Дата создания пробы1'].tolist()\n",
        "                        strength_values = df['mean'].tolist()\n",
        "                        batches = df['Плавка'].tolist()\n",
        "\n",
        "                        # Генерация случайных данных\n",
        "                        # np.random.seed(42)\n",
        "                        # data_size = 100\n",
        "                        # dates = pd.date_range(start=\"2023-01-01\", periods=data_size, freq='D')\n",
        "                        # batches = [f'Партия {i+1}' for i in range(10)]\n",
        "                        data = {\n",
        "                            'Плавка': batches,\n",
        "                            'Дата производства': dates,\n",
        "                            'Значение': strength_values\n",
        "                        }\n",
        "\n",
        "                        df = pd.DataFrame(data)\n",
        "\n",
        "                        # Создание Dash приложения\n",
        "                        app = dash.Dash(__name__)\n",
        "\n",
        "                        app.layout = html.Div([\n",
        "                            dcc.Dropdown(\n",
        "                                id='batch-dropdown',\n",
        "                                options=[{'label': batch, 'value': batch} for batch in df['Плавка'].unique()],\n",
        "                                multi=True,\n",
        "                                placeholder='Выберите партии'\n",
        "                            ),\n",
        "                            dcc.DatePickerRange(\n",
        "                                id='date-picker',\n",
        "                                start_date=df['Дата производства'].min(),\n",
        "                                end_date=df['Дата производства'].max(),\n",
        "                                display_format='YYYY-MM-DD'\n",
        "                            ),\n",
        "                            dcc.Graph(id='value-graph')\n",
        "                        ])\n",
        "\n",
        "                        @app.callback(\n",
        "                            Output('value-graph', 'figure'),\n",
        "                            [Input('batch-dropdown', 'value'),\n",
        "                            Input('date-picker', 'start_date'),\n",
        "                            Input('date-picker', 'end_date')]\n",
        "                        )\n",
        "                        def update_graph(selected_batches, start_date, end_date):\n",
        "                            if selected_batches is None:\n",
        "                                filtered_df = df\n",
        "                            else:\n",
        "                                filtered_df = df[(df['Плавка'].isin(selected_batches)) &\n",
        "                                                (df['Дата производства'] >= start_date) &\n",
        "                                                (df['Дата производства'] <= end_date)]\n",
        "\n",
        "                            fig = px.scatter(filtered_df, x='Дата производства', y='Значение', color='Плавка',\n",
        "                                            title='Значения временного сопротивления ' + d_marka_nd + ' по дате и плавке',\n",
        "                                            labels={'Значение': 'Временное сопротивление, Н/мм2', 'Дата производства': 'Дата'})\n",
        "\n",
        "                            return fig\n",
        "\n",
        "                        if __name__ == '__main__':\n",
        "                            # app.run_server(debug=True)\n",
        "                            app.run(debug=True)\n"
      ],
      "metadata": {
        "colab": {
          "base_uri": "https://localhost:8080/",
          "height": 689
        },
        "id": "U99s27dw9Zdv",
        "outputId": "94f26777-98e8-48b6-c466-35d29380d5d0"
      },
      "execution_count": 9,
      "outputs": [
        {
          "output_type": "stream",
          "name": "stdout",
          "text": [
            "МЕХСВ\n"
          ]
        },
        {
          "output_type": "display_data",
          "data": {
            "text/plain": [
              "<IPython.core.display.Javascript object>"
            ],
            "application/javascript": [
              "(async (port, path, width, height, cache, element) => {\n",
              "    if (!google.colab.kernel.accessAllowed && !cache) {\n",
              "      return;\n",
              "    }\n",
              "    element.appendChild(document.createTextNode(''));\n",
              "    const url = await google.colab.kernel.proxyPort(port, {cache});\n",
              "    const iframe = document.createElement('iframe');\n",
              "    iframe.src = new URL(path, url).toString();\n",
              "    iframe.height = height;\n",
              "    iframe.width = width;\n",
              "    iframe.style.border = 0;\n",
              "    iframe.allow = [\n",
              "        'accelerometer',\n",
              "        'autoplay',\n",
              "        'camera',\n",
              "        'clipboard-read',\n",
              "        'clipboard-write',\n",
              "        'gyroscope',\n",
              "        'magnetometer',\n",
              "        'microphone',\n",
              "        'serial',\n",
              "        'usb',\n",
              "        'xr-spatial-tracking',\n",
              "    ].join('; ');\n",
              "    element.appendChild(iframe);\n",
              "  })(8050, \"/\", \"100%\", 650, false, window.element)"
            ]
          },
          "metadata": {}
        }
      ]
    },
    {
      "cell_type": "code",
      "execution_count": 9,
      "metadata": {
        "id": "g0auQZ_J2MZN"
      },
      "outputs": [],
      "source": []
    }
  ]
}